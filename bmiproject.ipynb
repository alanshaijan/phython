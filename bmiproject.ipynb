{
 "cells": [
  {
   "cell_type": "code",
   "execution_count": 13,
   "id": "3f6910cb-5851-4a51-94e0-d525be738e45",
   "metadata": {},
   "outputs": [
    {
     "name": "stdin",
     "output_type": "stream",
     "text": [
      "Enter your name Alan\n",
      "Enter your weight in pound:  178\n",
      "Enter your height in inches:  69\n"
     ]
    },
    {
     "name": "stdout",
     "output_type": "stream",
     "text": [
      "26.28313379542113\n",
      "Alan,You are  Overweight\n"
     ]
    }
   ],
   "source": [
    "name = input(\"Enter your name\")\n",
    "\n",
    "weight = int(input(\"Enter your weight in pound: \"))\n",
    "\n",
    "height = int(input(\"Enter your height in inches: \"))\n",
    "\n",
    "BMI = (weight * 703) / (height * height)\n",
    "\n",
    "print(BMI)\n",
    "\n",
    "if  BMI>0:\n",
    "    if(BMI<18.5):\n",
    "        print(name+\",You are underweight\")\n",
    "    elif(BMI<=24.9):\n",
    "        print(name+\",You are Normal Weight\")\n",
    "    elif(BMI<= 29.9):\n",
    "        print(name+\",You are  Overweight\")\n",
    "    elif(BMI<= 34.9):\n",
    "        print(name+\",You are  Obese\tHigh\")\n",
    "    elif(BMI<= 39.9):\n",
    "        print(name+\",You are  Severely Obese\tVery High\")\n",
    "    else:\n",
    "        print(name+\",Morbidly Obese\tExtremely High\")\n",
    "else:\n",
    "    print(\"Enter Valid input\")\n",
    "\n"
   ]
  },
  {
   "cell_type": "code",
   "execution_count": null,
   "id": "50a4435e-c1e1-469a-9bf4-056dc3e3e75d",
   "metadata": {},
   "outputs": [],
   "source": []
  },
  {
   "cell_type": "code",
   "execution_count": null,
   "id": "fc12a52b-8fe6-42d3-824a-e29ff7b056a8",
   "metadata": {},
   "outputs": [],
   "source": []
  },
  {
   "cell_type": "code",
   "execution_count": null,
   "id": "cb922e58-6656-416c-bdff-69c5a25316c6",
   "metadata": {},
   "outputs": [],
   "source": []
  },
  {
   "cell_type": "code",
   "execution_count": null,
   "id": "0099dd3a-0560-4dc4-a1f8-e3f13d531d6f",
   "metadata": {},
   "outputs": [],
   "source": []
  },
  {
   "cell_type": "code",
   "execution_count": null,
   "id": "eec87ba8-97b2-4e1a-8a9a-2d1d7657fc57",
   "metadata": {},
   "outputs": [],
   "source": [
    "Under 18.5\tUnderweight\tMinimal\n",
    "18.5 - 24.9\tNormal Weight\tMinimal\n",
    "25 - 29.9\tOverweight\tIncreased\n",
    "30 - 34.9\tObese\tHigh\n",
    "35 - 39.9\tSeverely Obese\tVery High\n",
    "40 and over\tMorbidly Obese\tExtremely High"
   ]
  },
  {
   "cell_type": "code",
   "execution_count": null,
   "id": "b52de4f4-f36e-48d2-a399-4edf461cc328",
   "metadata": {},
   "outputs": [],
   "source": []
  },
  {
   "cell_type": "code",
   "execution_count": 12,
   "id": "d08a1a04-d9de-4646-9b9f-702bd8a287f8",
   "metadata": {},
   "outputs": [
    {
     "name": "stdout",
     "output_type": "stream",
     "text": [
      "Alan,You are  Overweight\n"
     ]
    }
   ],
   "source": [
    "if  BMI>0:\n",
    "    if(BMI<18.5):\n",
    "        print(name+\",You are underweight\")\n",
    "    elif(BMI<=24.9):\n",
    "        print(name+\",You are Normal Weight\")\n",
    "    elif(BMI<= 29.9):\n",
    "        print(name+\",You are  Overweight\")\n",
    "    elif(BMI<= 34.9):\n",
    "        print(name+\",You are  Obese\tHigh\")\n",
    "    elif(BMI<= 39.9):\n",
    "        print(name+\",You are  Severely Obese\tVery High\")\n",
    "    else:\n",
    "        print(name+\",Morbidly Obese\tExtremely High\")\n",
    "else:\n",
    "    print(\"Enter Valid input\")"
   ]
  },
  {
   "cell_type": "code",
   "execution_count": null,
   "id": "503af1f8-57c3-4cea-afee-b2987d0889e7",
   "metadata": {},
   "outputs": [],
   "source": []
  },
  {
   "cell_type": "code",
   "execution_count": null,
   "id": "56242f3b-bb4a-491d-bb27-19f21434d24e",
   "metadata": {},
   "outputs": [],
   "source": []
  },
  {
   "cell_type": "code",
   "execution_count": null,
   "id": "d963c024-f36d-4c34-a002-d6ac6fec8861",
   "metadata": {},
   "outputs": [],
   "source": []
  },
  {
   "cell_type": "code",
   "execution_count": null,
   "id": "24a3c23f-135e-4a51-a56a-e8a0cdbfa139",
   "metadata": {},
   "outputs": [],
   "source": []
  },
  {
   "cell_type": "code",
   "execution_count": null,
   "id": "52bc57e5-aa59-4209-90c1-ead7c3270a23",
   "metadata": {},
   "outputs": [],
   "source": []
  },
  {
   "cell_type": "code",
   "execution_count": null,
   "id": "d47f75ea-6a1a-4b74-be7a-41cd73c6ec1e",
   "metadata": {},
   "outputs": [],
   "source": []
  },
  {
   "cell_type": "code",
   "execution_count": null,
   "id": "4b007961-9263-4e24-9623-e9291baf6ef7",
   "metadata": {},
   "outputs": [],
   "source": []
  }
 ],
 "metadata": {
  "kernelspec": {
   "display_name": "Python 3 (ipykernel)",
   "language": "python",
   "name": "python3"
  },
  "language_info": {
   "codemirror_mode": {
    "name": "ipython",
    "version": 3
   },
   "file_extension": ".py",
   "mimetype": "text/x-python",
   "name": "python",
   "nbconvert_exporter": "python",
   "pygments_lexer": "ipython3",
   "version": "3.11.7"
  }
 },
 "nbformat": 4,
 "nbformat_minor": 5
}
