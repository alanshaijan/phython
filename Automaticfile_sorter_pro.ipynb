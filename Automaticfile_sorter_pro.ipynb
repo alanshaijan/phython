{
 "cells": [
  {
   "cell_type": "markdown",
   "id": "4b517d43-8b0e-4e6f-8a81-0790999c6d3f",
   "metadata": {},
   "source": [
    "#Automatic File Sorter in File Explorer"
   ]
  },
  {
   "cell_type": "code",
   "execution_count": 43,
   "id": "6d6d9d80-15fd-4977-887c-6a728395cb77",
   "metadata": {},
   "outputs": [],
   "source": [
    "import os, shutil"
   ]
  },
  {
   "cell_type": "code",
   "execution_count": 44,
   "id": "d717f5c0-72d5-41c2-9d2c-5e4ff1fc414a",
   "metadata": {},
   "outputs": [],
   "source": [
    "path = r\"D:/data tutorial/phython/\""
   ]
  },
  {
   "cell_type": "code",
   "execution_count": 45,
   "id": "e1f1564f-816c-41b8-b05a-92cc74cb6566",
   "metadata": {},
   "outputs": [],
   "source": [
    "file_name = os.listdir(path)"
   ]
  },
  {
   "cell_type": "code",
   "execution_count": 48,
   "id": "03800d34-2dee-49c4-8c97-05d124adeab5",
   "metadata": {},
   "outputs": [],
   "source": [
    "folder_name = ['xlsx file','jpg file','html file']\n",
    "\n",
    "for loop in range(0,3):\n",
    "    if not os.path.exists(path + folder_name[loop]):\n",
    "        #print(path + folder_name[loop])\n",
    "        os.makedirs((path + folder_name[loop]))\n",
    "        \n",
    "for file in file_name:\n",
    "    if \".xlsx\" in file and not os.path.exists(path + \"xlsx file/\" + file):\n",
    "            shutil.move(path + file, path + \"xlsx file/\" + file)\n",
    "    elif \".jpg\" in file and not os.path.exists(path + \"jpg file/\" + file):\n",
    "            shutil.move(path + file, path + \"jpg file/\" + file)\n",
    "    elif \".htm\" in file and not os.path.exists(path + \"html file/\" + file):\n",
    "            shutil.move(path + file, path + \"html file/\" + file)\n",
    "        \n",
    "   \n",
    "    "
   ]
  },
  {
   "cell_type": "code",
   "execution_count": 42,
   "id": "ba98562c-5b2f-468f-9469-b674b33ddb56",
   "metadata": {},
   "outputs": [],
   "source": []
  },
  {
   "cell_type": "code",
   "execution_count": null,
   "id": "82f5ebe6-62c8-4e68-af53-5058620a1c7e",
   "metadata": {},
   "outputs": [],
   "source": []
  },
  {
   "cell_type": "code",
   "execution_count": null,
   "id": "0a0a04fc-6963-4d99-8b59-d5917aa90b99",
   "metadata": {},
   "outputs": [],
   "source": []
  },
  {
   "cell_type": "code",
   "execution_count": null,
   "id": "afd3aefc-5051-4923-824e-b2a28416e502",
   "metadata": {},
   "outputs": [],
   "source": []
  },
  {
   "cell_type": "code",
   "execution_count": null,
   "id": "616d9f0c-af84-42ac-95e1-1b603c21a346",
   "metadata": {},
   "outputs": [],
   "source": []
  },
  {
   "cell_type": "code",
   "execution_count": null,
   "id": "9616310a-60b1-4c02-9e1f-c79fc85eb77e",
   "metadata": {},
   "outputs": [],
   "source": []
  }
 ],
 "metadata": {
  "kernelspec": {
   "display_name": "Python 3 (ipykernel)",
   "language": "python",
   "name": "python3"
  },
  "language_info": {
   "codemirror_mode": {
    "name": "ipython",
    "version": 3
   },
   "file_extension": ".py",
   "mimetype": "text/x-python",
   "name": "python",
   "nbconvert_exporter": "python",
   "pygments_lexer": "ipython3",
   "version": "3.11.7"
  }
 },
 "nbformat": 4,
 "nbformat_minor": 5
}
